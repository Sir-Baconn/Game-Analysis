{
 "cells": [
  {
   "cell_type": "code",
   "execution_count": null,
   "metadata": {
    "scrolled": true
   },
   "outputs": [],
   "source": [
    "import pandas as pd\n",
    "import numpy as np\n",
    "import matplotlib.pyplot as plt\n",
    "\n",
    "def weeaboo_finder(df):\n",
    "    tag_data_one = []\n",
    "    title_data = []\n",
    "    for i in (df['tags']):\n",
    "        data = i.split('|')\n",
    "        tag_data_one.append(data)\n",
    "\n",
    "    df = pd.DataFrame(df)\n",
    "    df['tags'] = tag_data_one\n",
    "\n",
    "    for i in range(0, len(df['tags'])):\n",
    "        for j in range(0, len(df['tags'][i])):\n",
    "            if df['tags'][i][j].lower() == \"kpop\":\n",
    "                title_data.append(df['title'][i])\n",
    "            elif df['tags'][i][j].lower() == \"k-pop\":\n",
    "                title_data.append(df['title'][i])\n",
    "    return title_data\n",
    "            \n",
    "\n",
    "df = pd.read_csv('youtube-new/GBvideos.csv')\n",
    "df2 = pd.read_csv('youtube-new/USvideos.csv')\n",
    "\n",
    "\n",
    "final_titles_GB = weeaboo_finder(df)\n",
    "final_titles_US = weeaboo_finder(df2)\n",
    "\n",
    "print(\"Number of GB Kpop: \" + str(len(final_titles_GB)) + \"\\nNumber of US Kpop: \" + str(len(final_titles_US)))\n",
    "\n",
    "\n"
   ]
  },
  {
   "cell_type": "code",
   "execution_count": null,
   "metadata": {},
   "outputs": [],
   "source": []
  }
 ],
 "metadata": {
  "kernelspec": {
   "display_name": "Python 3",
   "language": "python",
   "name": "python3"
  },
  "language_info": {
   "codemirror_mode": {
    "name": "ipython",
    "version": 3
   },
   "file_extension": ".py",
   "mimetype": "text/x-python",
   "name": "python",
   "nbconvert_exporter": "python",
   "pygments_lexer": "ipython3",
   "version": "3.6.5"
  }
 },
 "nbformat": 4,
 "nbformat_minor": 2
}
