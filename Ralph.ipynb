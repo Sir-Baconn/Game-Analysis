{
 "cells": [
  {
   "cell_type": "code",
   "execution_count": 8,
   "metadata": {
    "scrolled": true
   },
   "outputs": [
    {
     "name": "stdout",
     "output_type": "stream",
     "text": [
      "Number of GB Kpop: 625\n",
      "Number of US Kpop: 254\n"
     ]
    }
   ],
   "source": [
    "import pandas as pd\n",
    "import numpy as np\n",
    "import matplotlib.pyplot as plt\n",
    "\n",
    "def weeaboo_finder(df):\n",
    "    title_data = []\n",
    "\n",
    "    for i in range(0, len(df['tags'])):\n",
    "        if \"kpop\" in df['tags'][i].lower() or \"k-pop\" in df['tags'][i].lower():\n",
    "            title_data.append(df['title'][i])\n",
    "    return title_data\n",
    "\n",
    "df = pd.read_csv('youtube-new/GBvideos.csv')\n",
    "df2 = pd.read_csv('youtube-new/USvideos.csv')\n",
    "\n",
    "\n",
    "final_titles_GB = weeaboo_finder(df)\n",
    "final_titles_US = weeaboo_finder(df2)\n",
    "\n",
    "print(\"Number of GB Kpop: \" + str(len(final_titles_GB)) + \"\\nNumber of US Kpop: \" + str(len(final_titles_US)))\n"
   ]
  },
  {
   "cell_type": "code",
   "execution_count": null,
   "metadata": {},
   "outputs": [],
   "source": []
  }
 ],
 "metadata": {
  "kernelspec": {
   "display_name": "Python 3",
   "language": "python",
   "name": "python3"
  },
  "language_info": {
   "codemirror_mode": {
    "name": "ipython",
    "version": 3
   },
   "file_extension": ".py",
   "mimetype": "text/x-python",
   "name": "python",
   "nbconvert_exporter": "python",
   "pygments_lexer": "ipython3",
   "version": "3.6.5"
  }
 },
 "nbformat": 4,
 "nbformat_minor": 2
}
