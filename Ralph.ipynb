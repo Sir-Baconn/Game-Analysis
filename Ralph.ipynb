{
 "cells": [
  {
   "cell_type": "code",
   "execution_count": 4,
   "metadata": {
    "scrolled": true
   },
   "outputs": [],
   "source": [
    "import pandas as pd\n",
    "import numpy as np\n",
    "import matplotlib\n",
    "import matplotlib.pyplot as plt"
   ]
  },
  {
   "cell_type": "code",
   "execution_count": 5,
   "metadata": {},
   "outputs": [],
   "source": [
    "def weeaboo_finder(df):\n",
    "    title_data = []\n",
    "\n",
    "    for i in range(0, len(df['tags'])):\n",
    "        if \"kpop\" in df['tags'][i].lower() or \"k-pop\" in df['tags'][i].lower() or \"k pop\" in df['tags'][i].lower():\n",
    "            title_data.append(df['title'][i])\n",
    "    return title_data"
   ]
  },
  {
   "cell_type": "code",
   "execution_count": null,
   "metadata": {},
   "outputs": [],
   "source": [
    "df = pd.read_csv('youtube-new/GBvideos.csv')\n"
   ]
  },
  {
   "cell_type": "code",
   "execution_count": 16,
   "metadata": {},
   "outputs": [
    {
     "name": "stdout",
     "output_type": "stream",
     "text": [
      "Number of GB Kpop: 625\n",
      "Number of US Kpop: 254\n",
      "Number of FR Kpop: 95\n",
      "Number of DE Kpop: 52\n",
      "Number of CA Kpop: 124\n"
     ]
    }
   ],
   "source": [
    "df = pd.read_csv('youtube-new/GBvideos.csv')\n",
    "df2 = pd.read_csv('youtube-new/USvideos.csv')\n",
    "df3 = pd.read_csv('youtube-new/FRvideos.csv')\n",
    "df4 = pd.read_csv('youtube-new/DEvideos.csv')\n",
    "df5 = pd.read_csv('youtube-new/CAvideos.csv')\n",
    "\n",
    "final_titles_GB = weeaboo_finder(df)\n",
    "final_titles_US = weeaboo_finder(df2)\n",
    "final_titles_FR = weeaboo_finder(df3)\n",
    "final_titles_DE = weeaboo_finder(df4)\n",
    "final_titles_CA = weeaboo_finder(df5)\n",
    "\n",
    "\n",
    "print(\"Number of GB Kpop: \" + str(len(final_titles_GB))\n",
    "     + \"\\nNumber of US Kpop: \" + str(len(final_titles_US))\n",
    "     + \"\\nNumber of FR Kpop: \" + str(len(final_titles_FR))\n",
    "     + \"\\nNumber of DE Kpop: \" + str(len(final_titles_DE))\n",
    "     + \"\\nNumber of CA Kpop: \" + str(len(final_titles_CA)))"
   ]
  },
  {
   "cell_type": "code",
   "execution_count": 2,
   "metadata": {},
   "outputs": [
    {
     "ename": "NameError",
     "evalue": "name 'plt' is not defined",
     "output_type": "error",
     "traceback": [
      "\u001b[1;31m---------------------------------------------------------------------------\u001b[0m",
      "\u001b[1;31mNameError\u001b[0m                                 Traceback (most recent call last)",
      "\u001b[1;32m<ipython-input-2-940041b86a8f>\u001b[0m in \u001b[0;36m<module>\u001b[1;34m()\u001b[0m\n\u001b[1;32m----> 1\u001b[1;33m \u001b[0mplt\u001b[0m\u001b[1;33m.\u001b[0m\u001b[0mfigure\u001b[0m\u001b[1;33m(\u001b[0m\u001b[1;33m)\u001b[0m\u001b[1;33m\u001b[0m\u001b[0m\n\u001b[0m\u001b[0;32m      2\u001b[0m \u001b[0mx\u001b[0m \u001b[1;33m=\u001b[0m \u001b[0mdf\u001b[0m\u001b[1;33m[\u001b[0m\u001b[1;34m'title'\u001b[0m\u001b[1;33m]\u001b[0m\u001b[1;33m\u001b[0m\u001b[0m\n\u001b[0;32m      3\u001b[0m \u001b[0my\u001b[0m \u001b[1;33m=\u001b[0m \u001b[0mdf\u001b[0m\u001b[1;33m[\u001b[0m\u001b[1;34m'views'\u001b[0m\u001b[1;33m]\u001b[0m\u001b[1;33m\u001b[0m\u001b[0m\n\u001b[0;32m      4\u001b[0m \u001b[0mplt\u001b[0m\u001b[1;33m.\u001b[0m\u001b[0mplot\u001b[0m\u001b[1;33m(\u001b[0m\u001b[0mx\u001b[0m\u001b[1;33m,\u001b[0m\u001b[0my\u001b[0m\u001b[1;33m)\u001b[0m\u001b[1;33m\u001b[0m\u001b[0m\n\u001b[0;32m      5\u001b[0m \u001b[0mplt\u001b[0m\u001b[1;33m.\u001b[0m\u001b[0mshow\u001b[0m\u001b[1;33m(\u001b[0m\u001b[1;33m)\u001b[0m\u001b[1;33m\u001b[0m\u001b[0m\n",
      "\u001b[1;31mNameError\u001b[0m: name 'plt' is not defined"
     ]
    }
   ],
   "source": [
    "plt.figure()\n",
    "x = df['title']\n",
    "y = df['views']\n",
    "plt.plot(x,y)\n",
    "plt.show()"
   ]
  },
  {
   "cell_type": "code",
   "execution_count": null,
   "metadata": {},
   "outputs": [],
   "source": []
  }
 ],
 "metadata": {
  "kernelspec": {
   "display_name": "Python 3",
   "language": "python",
   "name": "python3"
  },
  "language_info": {
   "codemirror_mode": {
    "name": "ipython",
    "version": 3
   },
   "file_extension": ".py",
   "mimetype": "text/x-python",
   "name": "python",
   "nbconvert_exporter": "python",
   "pygments_lexer": "ipython3",
   "version": "3.6.5"
  }
 },
 "nbformat": 4,
 "nbformat_minor": 2
}
